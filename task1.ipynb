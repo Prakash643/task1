{
 "cells": [
  {
   "cell_type": "code",
   "execution_count": 3,
   "id": "621bae58-7987-474d-b65b-0e646fe249f1",
   "metadata": {},
   "outputs": [
    {
     "name": "stdout",
     "output_type": "stream",
     "text": [
      "Cleaned dataset saved as 'amazon_sales_cleaned.csv'\n"
     ]
    }
   ],
   "source": [
    "import pandas as pd\n",
    "\n",
    "# Load the dataset\n",
    "df = pd.read_csv(\"amazon_sales.csv\")\n",
    "\n",
    "# Step 1: Remove currency symbols and commas from price columns\n",
    "df['discounted_price'] = df['discounted_price'].replace({'₹': '', ',': ''}, regex=True).astype(float)\n",
    "df['actual_price'] = df['actual_price'].replace({'₹': '', ',': ''}, regex=True).astype(float)\n",
    "\n",
    "# Step 2: Clean 'discount_percentage' column (remove % and convert to float)\n",
    "df['discount_percentage'] = df['discount_percentage'].str.replace('%', '').astype(float)\n",
    "\n",
    "# Step 3: Convert 'rating_count' to integer (remove commas)\n",
    "df['rating_count'] = df['rating_count'].str.replace(',', '').astype(int)\n",
    "\n",
    "# Step 4: Convert 'date_added' to datetime format\n",
    "df['date_added'] = pd.to_datetime(df['date_added'], format='%d-%m-%Y')\n",
    "\n",
    "# Step 5: Standardize column names (lowercase, replace spaces with underscores)\n",
    "df.columns = df.columns.str.strip().str.lower().str.replace(' ', '_')\n",
    "\n",
    "# Step 6: Remove duplicate rows (if any)\n",
    "df = df.drop_duplicates()\n",
    "\n",
    "# Optional Step 7: Handle missing values (fill or drop, depending on context)\n",
    "# Here we fill missing ratings with the column mean\n",
    "if df['rating'].isnull().sum() > 0:\n",
    "    df['rating'] = df['rating'].fillna(df['rating'].mean())\n",
    "\n",
    "# Save the cleaned dataset\n",
    "df.to_csv(\"amazon_sales_cleaned.csv\", index=False)\n",
    "print(\"Cleaned dataset saved as 'amazon_sales_cleaned.csv'\")\n"
   ]
  },
  {
   "cell_type": "code",
   "execution_count": null,
   "id": "d45a7802-f35a-4b60-afe6-4ff896316b90",
   "metadata": {},
   "outputs": [],
   "source": []
  },
  {
   "cell_type": "code",
   "execution_count": null,
   "id": "1fb68ba5-aac7-4fd8-aa91-c9d545b56078",
   "metadata": {},
   "outputs": [],
   "source": []
  }
 ],
 "metadata": {
  "kernelspec": {
   "display_name": "Python 3 (ipykernel)",
   "language": "python",
   "name": "python3"
  },
  "language_info": {
   "codemirror_mode": {
    "name": "ipython",
    "version": 3
   },
   "file_extension": ".py",
   "mimetype": "text/x-python",
   "name": "python",
   "nbconvert_exporter": "python",
   "pygments_lexer": "ipython3",
   "version": "3.12.7"
  }
 },
 "nbformat": 4,
 "nbformat_minor": 5
}
